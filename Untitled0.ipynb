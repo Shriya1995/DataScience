{
  "nbformat": 4,
  "nbformat_minor": 0,
  "metadata": {
    "colab": {
      "name": "Untitled0.ipynb",
      "version": "0.3.2",
      "provenance": []
    },
    "kernelspec": {
      "name": "python3",
      "display_name": "Python 3"
    }
  },
  "cells": [
    {
      "cell_type": "code",
      "metadata": {
        "id": "8fzPu0oKR9X8",
        "colab_type": "code",
        "colab": {}
      },
      "source": [
        "import numpy as np\n",
        "import pandas as pd"
      ],
      "execution_count": 0,
      "outputs": []
    },
    {
      "cell_type": "code",
      "metadata": {
        "id": "UiHeeuRnSGbb",
        "colab_type": "code",
        "outputId": "4ab5a60c-3777-4df2-d5df-42062530508d",
        "colab": {
          "base_uri": "https://localhost:8080/",
          "height": 252
        }
      },
      "source": [
        "arr = np.random.rand(7,7)\n",
        "print(arr)"
      ],
      "execution_count": 0,
      "outputs": [
        {
          "output_type": "stream",
          "text": [
            "[[0.88834099 0.55379183 0.17160721 0.57237306 0.54899233 0.60447188\n",
            "  0.9483769 ]\n",
            " [0.95851164 0.45806915 0.20424575 0.39151169 0.67501121 0.07672223\n",
            "  0.90215598]\n",
            " [0.25184912 0.99492453 0.52292425 0.95280426 0.93259972 0.06649498\n",
            "  0.10463303]\n",
            " [0.56871364 0.66390371 0.26543261 0.6686695  0.69998721 0.79627299\n",
            "  0.64213307]\n",
            " [0.24713446 0.45902945 0.84946318 0.71430055 0.58997565 0.12352068\n",
            "  0.81136366]\n",
            " [0.33235322 0.64545748 0.53225703 0.87314454 0.45931487 0.02251287\n",
            "  0.33166402]\n",
            " [0.44189342 0.74372476 0.90999518 0.85517068 0.73574358 0.64946069\n",
            "  0.52436308]]\n"
          ],
          "name": "stdout"
        }
      ]
    },
    {
      "cell_type": "code",
      "metadata": {
        "id": "NJlMfD9kSX8T",
        "colab_type": "code",
        "outputId": "dd999326-42ee-446e-b467-82724a34b4b7",
        "colab": {
          "base_uri": "https://localhost:8080/",
          "height": 50
        }
      },
      "source": [
        "st = np.array(['Python','Machine learning','Sql','Excel']) \n",
        "print(np.char.lower(st))\n",
        "print(np.char.upper(st))"
      ],
      "execution_count": 0,
      "outputs": [
        {
          "output_type": "stream",
          "text": [
            "['python' 'machine learning' 'sql' 'excel']\n",
            "['PYTHON' 'MACHINE LEARNING' 'SQL' 'EXCEL']\n"
          ],
          "name": "stdout"
        }
      ]
    },
    {
      "cell_type": "code",
      "metadata": {
        "id": "v7hYxTSPSnOz",
        "colab_type": "code",
        "outputId": "3292f796-b7c9-49bd-cde8-954cf169ecc2",
        "colab": {
          "base_uri": "https://localhost:8080/",
          "height": 106
        }
      },
      "source": [
        "dicts = ({\"Subject\":[\"ML\",\"Python\"],\"Mid\":[1,2],\"End\":[3,4]})\n",
        "pd.DataFrame(dicts)"
      ],
      "execution_count": 0,
      "outputs": [
        {
          "output_type": "execute_result",
          "data": {
            "text/html": [
              "<div>\n",
              "<style scoped>\n",
              "    .dataframe tbody tr th:only-of-type {\n",
              "        vertical-align: middle;\n",
              "    }\n",
              "\n",
              "    .dataframe tbody tr th {\n",
              "        vertical-align: top;\n",
              "    }\n",
              "\n",
              "    .dataframe thead th {\n",
              "        text-align: right;\n",
              "    }\n",
              "</style>\n",
              "<table border=\"1\" class=\"dataframe\">\n",
              "  <thead>\n",
              "    <tr style=\"text-align: right;\">\n",
              "      <th></th>\n",
              "      <th>Subject</th>\n",
              "      <th>Mid</th>\n",
              "      <th>End</th>\n",
              "    </tr>\n",
              "  </thead>\n",
              "  <tbody>\n",
              "    <tr>\n",
              "      <th>0</th>\n",
              "      <td>ML</td>\n",
              "      <td>1</td>\n",
              "      <td>3</td>\n",
              "    </tr>\n",
              "    <tr>\n",
              "      <th>1</th>\n",
              "      <td>Python</td>\n",
              "      <td>2</td>\n",
              "      <td>4</td>\n",
              "    </tr>\n",
              "  </tbody>\n",
              "</table>\n",
              "</div>"
            ],
            "text/plain": [
              "  Subject  Mid  End\n",
              "0      ML    1    3\n",
              "1  Python    2    4"
            ]
          },
          "metadata": {
            "tags": []
          },
          "execution_count": 4
        }
      ]
    },
    {
      "cell_type": "code",
      "metadata": {
        "id": "QN6e44oQTeDU",
        "colab_type": "code",
        "outputId": "053bcfd5-871d-4158-8767-ce4f44cfdef2",
        "colab": {
          "base_uri": "https://localhost:8080/",
          "height": 50
        }
      },
      "source": [
        "arr = np.array([2,3,6,3.4,6,3])\n",
        "arr = arr.reshape(2,3)\n",
        "np.square(arr)"
      ],
      "execution_count": 0,
      "outputs": [
        {
          "output_type": "execute_result",
          "data": {
            "text/plain": [
              "array([[ 4.  ,  9.  , 36.  ],\n",
              "       [11.56, 36.  ,  9.  ]])"
            ]
          },
          "metadata": {
            "tags": []
          },
          "execution_count": 5
        }
      ]
    },
    {
      "cell_type": "code",
      "metadata": {
        "id": "vizVZ1LzTy2g",
        "colab_type": "code",
        "colab": {}
      },
      "source": [
        "books = pd.read_csv('book.csv')\n",
        "ratings = pd.read_csv('Rating.csv')"
      ],
      "execution_count": 0,
      "outputs": []
    },
    {
      "cell_type": "code",
      "metadata": {
        "id": "EbdOBCxHUo7-",
        "colab_type": "code",
        "outputId": "42875d65-00ff-481f-b423-d2de8e0d83a9",
        "colab": {
          "base_uri": "https://localhost:8080/",
          "height": 195
        }
      },
      "source": [
        "books.head()"
      ],
      "execution_count": 0,
      "outputs": [
        {
          "output_type": "execute_result",
          "data": {
            "text/html": [
              "<div>\n",
              "<style scoped>\n",
              "    .dataframe tbody tr th:only-of-type {\n",
              "        vertical-align: middle;\n",
              "    }\n",
              "\n",
              "    .dataframe tbody tr th {\n",
              "        vertical-align: top;\n",
              "    }\n",
              "\n",
              "    .dataframe thead th {\n",
              "        text-align: right;\n",
              "    }\n",
              "</style>\n",
              "<table border=\"1\" class=\"dataframe\">\n",
              "  <thead>\n",
              "    <tr style=\"text-align: right;\">\n",
              "      <th></th>\n",
              "      <th>bookID</th>\n",
              "      <th>title</th>\n",
              "      <th>authors</th>\n",
              "      <th>language_code</th>\n",
              "    </tr>\n",
              "  </thead>\n",
              "  <tbody>\n",
              "    <tr>\n",
              "      <th>0</th>\n",
              "      <td>1</td>\n",
              "      <td>Harry Potter and the Half-Blood Prince (Harry ...</td>\n",
              "      <td>J.K. Rowling-Mary GrandPré</td>\n",
              "      <td>eng</td>\n",
              "    </tr>\n",
              "    <tr>\n",
              "      <th>1</th>\n",
              "      <td>2</td>\n",
              "      <td>Harry Potter and the Order of the Phoenix (Har...</td>\n",
              "      <td>J.K. Rowling-Mary GrandPré</td>\n",
              "      <td>eng</td>\n",
              "    </tr>\n",
              "    <tr>\n",
              "      <th>2</th>\n",
              "      <td>3</td>\n",
              "      <td>Harry Potter and the Sorcerer's Stone (Harry P...</td>\n",
              "      <td>J.K. Rowling-Mary GrandPré</td>\n",
              "      <td>eng</td>\n",
              "    </tr>\n",
              "    <tr>\n",
              "      <th>3</th>\n",
              "      <td>4</td>\n",
              "      <td>Harry Potter and the Chamber of Secrets (Harry...</td>\n",
              "      <td>J.K. Rowling</td>\n",
              "      <td>eng</td>\n",
              "    </tr>\n",
              "    <tr>\n",
              "      <th>4</th>\n",
              "      <td>5</td>\n",
              "      <td>Harry Potter and the Prisoner of Azkaban (Harr...</td>\n",
              "      <td>J.K. Rowling-Mary GrandPré</td>\n",
              "      <td>eng</td>\n",
              "    </tr>\n",
              "  </tbody>\n",
              "</table>\n",
              "</div>"
            ],
            "text/plain": [
              "   bookID  ... language_code\n",
              "0       1  ...           eng\n",
              "1       2  ...           eng\n",
              "2       3  ...           eng\n",
              "3       4  ...           eng\n",
              "4       5  ...           eng\n",
              "\n",
              "[5 rows x 4 columns]"
            ]
          },
          "metadata": {
            "tags": []
          },
          "execution_count": 7
        }
      ]
    },
    {
      "cell_type": "code",
      "metadata": {
        "id": "yRova5iTVUSq",
        "colab_type": "code",
        "outputId": "4870a9eb-75ce-4abe-dcc5-9dab94f08f45",
        "colab": {
          "base_uri": "https://localhost:8080/",
          "height": 195
        }
      },
      "source": [
        "ratings.head()"
      ],
      "execution_count": 0,
      "outputs": [
        {
          "output_type": "execute_result",
          "data": {
            "text/html": [
              "<div>\n",
              "<style scoped>\n",
              "    .dataframe tbody tr th:only-of-type {\n",
              "        vertical-align: middle;\n",
              "    }\n",
              "\n",
              "    .dataframe tbody tr th {\n",
              "        vertical-align: top;\n",
              "    }\n",
              "\n",
              "    .dataframe thead th {\n",
              "        text-align: right;\n",
              "    }\n",
              "</style>\n",
              "<table border=\"1\" class=\"dataframe\">\n",
              "  <thead>\n",
              "    <tr style=\"text-align: right;\">\n",
              "      <th></th>\n",
              "      <th>bookID</th>\n",
              "      <th>average_rating</th>\n",
              "      <th>ratings_count</th>\n",
              "    </tr>\n",
              "  </thead>\n",
              "  <tbody>\n",
              "    <tr>\n",
              "      <th>0</th>\n",
              "      <td>1</td>\n",
              "      <td>4.56</td>\n",
              "      <td>1944099</td>\n",
              "    </tr>\n",
              "    <tr>\n",
              "      <th>1</th>\n",
              "      <td>2</td>\n",
              "      <td>4.49</td>\n",
              "      <td>1996446</td>\n",
              "    </tr>\n",
              "    <tr>\n",
              "      <th>2</th>\n",
              "      <td>3</td>\n",
              "      <td>4.47</td>\n",
              "      <td>5629932</td>\n",
              "    </tr>\n",
              "    <tr>\n",
              "      <th>3</th>\n",
              "      <td>4</td>\n",
              "      <td>4.41</td>\n",
              "      <td>6267</td>\n",
              "    </tr>\n",
              "    <tr>\n",
              "      <th>4</th>\n",
              "      <td>5</td>\n",
              "      <td>4.55</td>\n",
              "      <td>2149872</td>\n",
              "    </tr>\n",
              "  </tbody>\n",
              "</table>\n",
              "</div>"
            ],
            "text/plain": [
              "   bookID  average_rating  ratings_count\n",
              "0       1            4.56        1944099\n",
              "1       2            4.49        1996446\n",
              "2       3            4.47        5629932\n",
              "3       4            4.41           6267\n",
              "4       5            4.55        2149872"
            ]
          },
          "metadata": {
            "tags": []
          },
          "execution_count": 8
        }
      ]
    },
    {
      "cell_type": "code",
      "metadata": {
        "id": "Oq_X_mv7VVja",
        "colab_type": "code",
        "colab": {}
      },
      "source": [
        "result = pd.merge(books,\n",
        "                 ratings,\n",
        "                 on='bookID')"
      ],
      "execution_count": 0,
      "outputs": []
    },
    {
      "cell_type": "code",
      "metadata": {
        "id": "HKRWLnk3Vcu1",
        "colab_type": "code",
        "outputId": "81f53e8e-515e-4028-ba63-0ee85b03407e",
        "colab": {
          "base_uri": "https://localhost:8080/",
          "height": 279
        }
      },
      "source": [
        "result.head()"
      ],
      "execution_count": 0,
      "outputs": [
        {
          "output_type": "execute_result",
          "data": {
            "text/html": [
              "<div>\n",
              "<style scoped>\n",
              "    .dataframe tbody tr th:only-of-type {\n",
              "        vertical-align: middle;\n",
              "    }\n",
              "\n",
              "    .dataframe tbody tr th {\n",
              "        vertical-align: top;\n",
              "    }\n",
              "\n",
              "    .dataframe thead th {\n",
              "        text-align: right;\n",
              "    }\n",
              "</style>\n",
              "<table border=\"1\" class=\"dataframe\">\n",
              "  <thead>\n",
              "    <tr style=\"text-align: right;\">\n",
              "      <th></th>\n",
              "      <th>bookID</th>\n",
              "      <th>title</th>\n",
              "      <th>authors</th>\n",
              "      <th>language_code</th>\n",
              "      <th>average_rating</th>\n",
              "      <th>ratings_count</th>\n",
              "    </tr>\n",
              "  </thead>\n",
              "  <tbody>\n",
              "    <tr>\n",
              "      <th>0</th>\n",
              "      <td>1</td>\n",
              "      <td>Harry Potter and the Half-Blood Prince (Harry ...</td>\n",
              "      <td>J.K. Rowling-Mary GrandPré</td>\n",
              "      <td>eng</td>\n",
              "      <td>4.56</td>\n",
              "      <td>1944099</td>\n",
              "    </tr>\n",
              "    <tr>\n",
              "      <th>1</th>\n",
              "      <td>2</td>\n",
              "      <td>Harry Potter and the Order of the Phoenix (Har...</td>\n",
              "      <td>J.K. Rowling-Mary GrandPré</td>\n",
              "      <td>eng</td>\n",
              "      <td>4.49</td>\n",
              "      <td>1996446</td>\n",
              "    </tr>\n",
              "    <tr>\n",
              "      <th>2</th>\n",
              "      <td>3</td>\n",
              "      <td>Harry Potter and the Sorcerer's Stone (Harry P...</td>\n",
              "      <td>J.K. Rowling-Mary GrandPré</td>\n",
              "      <td>eng</td>\n",
              "      <td>4.47</td>\n",
              "      <td>5629932</td>\n",
              "    </tr>\n",
              "    <tr>\n",
              "      <th>3</th>\n",
              "      <td>4</td>\n",
              "      <td>Harry Potter and the Chamber of Secrets (Harry...</td>\n",
              "      <td>J.K. Rowling</td>\n",
              "      <td>eng</td>\n",
              "      <td>4.41</td>\n",
              "      <td>6267</td>\n",
              "    </tr>\n",
              "    <tr>\n",
              "      <th>4</th>\n",
              "      <td>5</td>\n",
              "      <td>Harry Potter and the Prisoner of Azkaban (Harr...</td>\n",
              "      <td>J.K. Rowling-Mary GrandPré</td>\n",
              "      <td>eng</td>\n",
              "      <td>4.55</td>\n",
              "      <td>2149872</td>\n",
              "    </tr>\n",
              "  </tbody>\n",
              "</table>\n",
              "</div>"
            ],
            "text/plain": [
              "   bookID  ... ratings_count\n",
              "0       1  ...       1944099\n",
              "1       2  ...       1996446\n",
              "2       3  ...       5629932\n",
              "3       4  ...          6267\n",
              "4       5  ...       2149872\n",
              "\n",
              "[5 rows x 6 columns]"
            ]
          },
          "metadata": {
            "tags": []
          },
          "execution_count": 10
        }
      ]
    },
    {
      "cell_type": "code",
      "metadata": {
        "id": "j9XgcsnmVeJw",
        "colab_type": "code",
        "outputId": "8dd3d22e-6615-41e4-f153-ef3a609bf893",
        "colab": {
          "base_uri": "https://localhost:8080/",
          "height": 34
        }
      },
      "source": [
        "allAuthors = result['authors'].unique()\n",
        "print(len(allAuthors))"
      ],
      "execution_count": 0,
      "outputs": [
        {
          "output_type": "stream",
          "text": [
            "7605\n"
          ],
          "name": "stdout"
        }
      ]
    },
    {
      "cell_type": "code",
      "metadata": {
        "id": "zdqw_5mfV2Qw",
        "colab_type": "code",
        "colab": {}
      },
      "source": [
        "import matplotlib.pyplot as plt"
      ],
      "execution_count": 0,
      "outputs": []
    },
    {
      "cell_type": "code",
      "metadata": {
        "id": "dv4-papyWJZ7",
        "colab_type": "code",
        "colab": {}
      },
      "source": [
        "ser = pd.Series(result['authors'].values.ravel()).dropna().value_counts()"
      ],
      "execution_count": 0,
      "outputs": []
    },
    {
      "cell_type": "code",
      "metadata": {
        "id": "WGH1WO86W4PN",
        "colab_type": "code",
        "outputId": "4a999e19-fea8-44d2-a060-063d61f900df",
        "colab": {
          "base_uri": "https://localhost:8080/",
          "height": 1000
        }
      },
      "source": [
        "result[\"authors\"].value_counts()"
      ],
      "execution_count": 0,
      "outputs": [
        {
          "output_type": "execute_result",
          "data": {
            "text/plain": [
              "Agatha Christie                                                                                      69\n",
              "Stephen King                                                                                         66\n",
              "Orson Scott Card                                                                                     48\n",
              "Rumiko Takahashi                                                                                     46\n",
              "P.G. Wodehouse                                                                                       42\n",
              "Terry Brooks                                                                                         40\n",
              "Piers Anthony                                                                                        34\n",
              "Margaret Weis-Tracy Hickman                                                                          33\n",
              "Dan Simmons                                                                                          32\n",
              "Sandra Brown                                                                                         31\n",
              "J.R.R. Tolkien                                                                                       31\n",
              "Gabriel García Márquez                                                                               31\n",
              "Michael Crichton                                                                                     30\n",
              "Mercedes Lackey                                                                                      30\n",
              "Alan Dean Foster                                                                                     29\n",
              "Anne Rice                                                                                            29\n",
              "Janet Evanovich                                                                                      28\n",
              "Dick Francis                                                                                         28\n",
              "Kurt Vonnegut                                                                                        27\n",
              "Laurell K. Hamilton                                                                                  26\n",
              "Terry Pratchett                                                                                      26\n",
              "James Patterson                                                                                      25\n",
              "Bill Bryson                                                                                          25\n",
              "Robert A. Heinlein                                                                                   25\n",
              "Roald Dahl                                                                                           23\n",
              "Gordon Korman                                                                                        23\n",
              "Roald Dahl-Quentin Blake                                                                             22\n",
              "Dean Koontz                                                                                          22\n",
              "Jodi Picoult                                                                                         22\n",
              "Diana Wynne Jones                                                                                    22\n",
              "                                                                                                     ..\n",
              "Margaret  Rose-Heather Rose Jones                                                                     1\n",
              "Dante Alighieri-Giorgio Petrocchi-Luis Martínez de Merlo                                              1\n",
              "Julie Otsuka                                                                                          1\n",
              "Frederick Douglass-John W. Blassingame-John R. McKivigan-Peter P. Hinks                               1\n",
              "Will Eisner-Stephen Eric Bronner-Umberto Eco-Sergei Nilus                                             1\n",
              "Robert Penn Warren-James H. Justus-Xavier Pàmies                                                      1\n",
              "Judith Butler-Ernesto Laclau-Slavoj Žižek                                                             1\n",
              "Emine Sevgi Özdamar-Luise von Flotow                                                                  1\n",
              "Edith Wharton-Louis Auchincloss                                                                       1\n",
              "Fyodor Dostoyevsky-Simon Vance-Thomas R. Beyer Jr.                                                    1\n",
              "Max Allan Collins-Steve Saffel                                                                        1\n",
              "William Shakespeare-Gordon McMullan                                                                   1\n",
              "William Goldman-Celia Filipetto                                                                       1\n",
              "Dashiell Hammett-Vince Emery-Joe Gores                                                                1\n",
              "Euripides-David Grene-Richmond Lattimore-William Arrowsmith-Frank William Jones-Charles R. Walker     1\n",
              "Grant Morrison-Howard Porter-John Dell                                                                1\n",
              "Georg Wilhelm Friedrich Hegel-J. Sibree                                                               1\n",
              "Robert Kirkman-Ben Oliver-Tom Raney                                                                   1\n",
              "Martha Humphreys                                                                                      1\n",
              "Ludovico Ariosto-Barbara Reynolds                                                                     1\n",
              "Isaac Asimov-Terry Carr-Martin H. Greenberg-Janet  Fox                                                1\n",
              "Peter Tremayne                                                                                        1\n",
              "Lisa S. French                                                                                        1\n",
              "Luis Vélez de Guevara                                                                                 1\n",
              "Mark LeVine-Michael Pollan-Stephen M. Pollan                                                          1\n",
              "D.W. Buffa                                                                                            1\n",
              "Mark Twain-Lin Salamo-Victor Fischer-Michael B. Frank                                                 1\n",
              "Bob Marley                                                                                            1\n",
              "Waris Dirie-Jeanne d' Haem                                                                            1\n",
              "Euripides-Donald J. Mastronarde                                                                       1\n",
              "Name: authors, Length: 7605, dtype: int64"
            ]
          },
          "metadata": {
            "tags": []
          },
          "execution_count": 17
        }
      ]
    },
    {
      "cell_type": "code",
      "metadata": {
        "id": "3X55LYPVXsvt",
        "colab_type": "code",
        "outputId": "7711fe4d-d41c-45da-b865-6bb4f70c893b",
        "colab": {
          "base_uri": "https://localhost:8080/",
          "height": 301
        }
      },
      "source": [
        "import seaborn as sns\n",
        "sns.distplot(result.average_rating)"
      ],
      "execution_count": 0,
      "outputs": [
        {
          "output_type": "execute_result",
          "data": {
            "text/plain": [
              "<matplotlib.axes._subplots.AxesSubplot at 0x7f14dcba5080>"
            ]
          },
          "metadata": {
            "tags": []
          },
          "execution_count": 21
        },
        {
          "output_type": "display_data",
          "data": {
            "image/png": "[encoded data removed]",
            "text/plain": [
              "<Figure size 432x288 with 1 Axes>"
            ]
          },
          "metadata": {
            "tags": []
          }
        }
      ]
    },
    {
      "cell_type": "code",
      "metadata": {
        "id": "Or5DGhpzaQJ7",
        "colab_type": "code",
        "colab": {}
      },
      "source": [
        "sns.pairplot(result)"
      ],
      "execution_count": 0,
      "outputs": []
    },
    {
      "cell_type": "code",
      "metadata": {
        "id": "hiYPa54LbLt6",
        "colab_type": "code",
        "colab": {}
      },
      "source": [
        "sns.boxplot(x=\"bookID\",y=\"ratings_count\", data=result)"
      ],
      "execution_count": 0,
      "outputs": []
    },
    {
      "cell_type": "code",
      "metadata": {
        "id": "DhPLY1RLbuov",
        "colab_type": "code",
        "outputId": "32e87fe0-f827-4b60-8278-c1a60b5f19c0",
        "colab": {
          "base_uri": "https://localhost:8080/",
          "height": 373
        }
      },
      "source": [
        "count  = result['authors'].value_counts()\n",
        "count = count[:100,]\n",
        "plt.figure(figsize=(20,5))\n",
        "sns.barplot(count.index, count.values, alpha=0.8)\n",
        "plt.title('Top 10 authors')\n",
        "plt.ylabel('Number of Occurrences', fontsize=12)\n",
        "plt.xlabel('Author', fontsize=12)\n",
        "plt.show()"
      ],
      "execution_count": 0,
      "outputs": [
        {
          "output_type": "display_data",
          "data": {
            "image/png": "[encoded data removed]",
            "text/plain": [
              "<Figure size 1440x360 with 1 Axes>"
            ]
          },
          "metadata": {
            "tags": []
          }
        }
      ]
    },
    {
      "cell_type": "code",
      "metadata": {
        "id": "lrCOhp9CciU-",
        "colab_type": "code",
        "colab": {}
      },
      "source": [
        "result.boxplot(column=['ratings_count'], return_type='axes');"
      ],
      "execution_count": 0,
      "outputs": []
    },
    {
      "cell_type": "code",
      "metadata": {
        "id": "R1OmwaG5ejpM",
        "colab_type": "code",
        "colab": {}
      },
      "source": [
        "result.boxplot(column=['average_rating'], return_type='axes');"
      ],
      "execution_count": 0,
      "outputs": []
    },
    {
      "cell_type": "code",
      "metadata": {
        "id": "8nVU77QMesrP",
        "colab_type": "code",
        "colab": {}
      },
      "source": [
        "ser"
      ],
      "execution_count": 0,
      "outputs": []
    },
    {
      "cell_type": "code",
      "metadata": {
        "id": "bD8pYIJwe6s7",
        "colab_type": "code",
        "colab": {}
      },
      "source": [
        ""
      ],
      "execution_count": 0,
      "outputs": []
    }
  ]
}